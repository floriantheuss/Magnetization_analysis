{
 "cells": [
  {
   "cell_type": "code",
   "execution_count": 55,
   "metadata": {},
   "outputs": [],
   "source": [
    "import numpy as np\n",
    "import matplotlib.pyplot as plt\n",
    "import os.path\n",
    "\n",
    "#%matplotlib qt"
   ]
  },
  {
   "cell_type": "code",
   "execution_count": 51,
   "metadata": {},
   "outputs": [
    {
     "data": {
      "text/plain": [
       "['MN3GE_030520_MVT_0.1T_FC.DAT',\n",
       " 'MN3GE_030520_MVT_0.2T_FC.DAT',\n",
       " 'MN3GE_030520_MVT_0.5T_FC.DAT',\n",
       " 'MN3GE_030520_MVT_1T_FC.DAT',\n",
       " 'MN3GE_030520_MVT_2T_FC.DAT',\n",
       " 'MN3GE_030520_MVT_4T_FC.DAT',\n",
       " 'MN3GE_030520_MVT_6T_FC.DAT',\n",
       " 'MN3GE_030520_MVT_9T_FC.DAT']"
      ]
     },
     "execution_count": 51,
     "metadata": {},
     "output_type": "execute_result"
    }
   ],
   "source": [
    "folder = \"C:\\\\Users\\\\Florian\\\\Box Sync\\\\Projects\\\\\"\n",
    "project = \"Mn3Ge\\\\magnetization\\\\030520\"\n",
    "\n",
    "files = [i for i in os.listdir(folder+project) if i[-3:] == 'DAT']\n",
    "files"
   ]
  },
  {
   "cell_type": "code",
   "execution_count": 52,
   "metadata": {},
   "outputs": [],
   "source": [
    "mass = 8.9e-3 # in g\n",
    "# molar masses in g/mol\n",
    "Mn = 54.938043\n",
    "Ge = 72.630\n",
    "Mn3Ge_molarmass = 3*Mn + Ge\n",
    "\n",
    "# Bohr magneton in erg/G\n",
    "muB = 9.274009994e-21\n",
    "# Avogadro number\n",
    "NA = 6.02214076e23 #per mol"
   ]
  },
  {
   "cell_type": "code",
   "execution_count": 53,
   "metadata": {},
   "outputs": [],
   "source": [
    "time = []\n",
    "temp = []\n",
    "field = []\n",
    "moment = []\n",
    "stderr = []\n",
    "field_text = []\n",
    "\n",
    "for filename in files:\n",
    "    data = []\n",
    "    N_headers = 31\n",
    "    \n",
    "    f = open(folder+project+\"\\\\\"+filename, 'r')\n",
    "    for i in np.arange(N_headers):\n",
    "        f.readline()\n",
    "        \n",
    "    for line in f:\n",
    "        line=line.strip()\n",
    "        line=line.split(\",\")\n",
    "        line=line[1:6]\n",
    "        \n",
    "        if np.any(np.array(line) == '' )==False:\n",
    "            for i in np.arange(len(line)):\n",
    "                line[i] = float(line[i])\n",
    "            data.append(line)\n",
    "    \n",
    "    data = np.array(data)\n",
    "    \n",
    "    time.append(data[:,0])\n",
    "    temp.append(data[:, 1])\n",
    "    field.append(data[:, 2]/10000) #in Tesla\n",
    "    moment.append(data[:, 3] / mass * Mn3Ge_molarmass) #in erg/(G mol)\n",
    "    stderr.append(data[:, 4])\n",
    "    \n",
    "    a = filename.find('T')\n",
    "    b = filename.find('T_F')\n",
    "    field_text.append(filename[a+2:b+1])\n",
    "    \n",
    "time = np.array(time)\n",
    "temp = np.array(temp)\n",
    "field = np.array(field)\n",
    "moment = np.array(moment)\n",
    "stderr = np.array(stderr)\n",
    "\n",
    "B = np.array( [np.mean(b) for b in field  ] )\n",
    "dB = np.array( [np.std(b) for b in field  ] )"
   ]
  },
  {
   "cell_type": "code",
   "execution_count": 57,
   "metadata": {},
   "outputs": [],
   "source": [
    "Tmin = 335\n",
    "Tmax = 395\n",
    "\n",
    "fs = 20\n",
    "ls = 18\n",
    "\n",
    "plt.figure(figsize=(12,9))\n",
    "\n",
    "for n in np.arange(len(files)):\n",
    "#for n in [5, 6, 7]:\n",
    "    mask = (temp[n]>Tmin) & (temp[n]<Tmax) \n",
    "    #plt.scatter(temp[n][mask], moment[n][mask]/B[n], s=2, label=field_text[n])\n",
    "    plt.scatter(temp[n][mask], moment[n][mask], s=2, label=field_text[n])\n",
    "\n",
    "    \n",
    "plt.legend(loc=(.65, .45), fontsize=fs)\n",
    "\n",
    "\n",
    "plt.xlabel('T (K)',fontsize=fs)\n",
    "#plt.ylabel(\"$\\mathrm{M/B\\,\\,(erg/(G^2 mol))}$\",fontsize=fs)\n",
    "plt.ylabel(\"$\\mathrm{M\\,\\,(erg/(G mol))}$\",fontsize=fs)\n",
    "plt.tick_params(axis=\"both\",direction=\"in\", labelsize=ls, bottom='True', top='True', left='True', right='True', \n",
    "                length=4, width=1, which = 'major')\n",
    "\n",
    "#plt.xlim(Tmin, Tmax)"
   ]
  },
  {
   "cell_type": "code",
   "execution_count": null,
   "metadata": {},
   "outputs": [],
   "source": []
  }
 ],
 "metadata": {
  "kernelspec": {
   "display_name": "Python 3",
   "language": "python",
   "name": "python3"
  },
  "language_info": {
   "codemirror_mode": {
    "name": "ipython",
    "version": 3
   },
   "file_extension": ".py",
   "mimetype": "text/x-python",
   "name": "python",
   "nbconvert_exporter": "python",
   "pygments_lexer": "ipython3",
   "version": "3.7.3"
  }
 },
 "nbformat": 4,
 "nbformat_minor": 4
}
